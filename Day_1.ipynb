{
 "cells": [
  {
   "cell_type": "code",
   "execution_count": 1,
   "id": "864244b8-a444-46ae-bd75-e0cc156b2801",
   "metadata": {},
   "outputs": [
    {
     "name": "stdout",
     "output_type": "stream",
     "text": [
      "Hello, My name is Selcia\n"
     ]
    }
   ],
   "source": [
    "print(\"Hello, My name is Selcia\")"
   ]
  },
  {
   "cell_type": "code",
   "execution_count": null,
   "id": "1952af38-6432-446c-bdaf-b94574b09fcf",
   "metadata": {},
   "outputs": [],
   "source": []
  }
 ],
 "metadata": {
  "kernelspec": {
   "display_name": "Python 3 (ipykernel)",
   "language": "python",
   "name": "python3"
  },
  "language_info": {
   "codemirror_mode": {
    "name": "ipython",
    "version": 3
   },
   "file_extension": ".py",
   "mimetype": "text/x-python",
   "name": "python",
   "nbconvert_exporter": "python",
   "pygments_lexer": "ipython3",
   "version": "3.12.4"
  }
 },
 "nbformat": 4,
 "nbformat_minor": 5
}
